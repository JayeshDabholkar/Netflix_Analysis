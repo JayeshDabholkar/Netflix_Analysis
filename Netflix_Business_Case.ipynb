{
  "nbformat": 4,
  "nbformat_minor": 0,
  "metadata": {
    "colab": {
      "provenance": [],
      "authorship_tag": "ABX9TyNqQA0f7offjiBCveTf87B6",
      "include_colab_link": true
    },
    "kernelspec": {
      "name": "python3",
      "display_name": "Python 3"
    },
    "language_info": {
      "name": "python"
    }
  },
  "cells": [
    {
      "cell_type": "markdown",
      "metadata": {
        "id": "view-in-github",
        "colab_type": "text"
      },
      "source": [
        "<a href=\"https://colab.research.google.com/github/JayeshDabholkar/Netflix_Analysis/blob/main/Netflix_Business_Case.ipynb\" target=\"_parent\"><img src=\"https://colab.research.google.com/assets/colab-badge.svg\" alt=\"Open In Colab\"/></a>"
      ]
    },
    {
      "cell_type": "code",
      "source": [
        "import numpy as np\n",
        "import pandas as pd\n",
        "import matplotlib.pyplot as plt\n",
        "import seaborn as sns"
      ],
      "metadata": {
        "id": "Zrho9qVBJaIn"
      },
      "execution_count": 3,
      "outputs": []
    },
    {
      "cell_type": "code",
      "source": [
        "df = pd.read_csv('Netflix_JD.csv')"
      ],
      "metadata": {
        "id": "aaUFpRQjJT2T"
      },
      "execution_count": 4,
      "outputs": []
    },
    {
      "cell_type": "code",
      "source": [
        "df"
      ],
      "metadata": {
        "colab": {
          "base_uri": "https://localhost:8080/",
          "height": 815
        },
        "id": "qHVIDnNzJs8x",
        "outputId": "a40bfbe6-e47b-4e2d-9d7a-753be6ab61e2"
      },
      "execution_count": 5,
      "outputs": [
        {
          "output_type": "execute_result",
          "data": {
            "text/plain": [
              "     show_id     type                  title         director  \\\n",
              "0         s1    Movie   Dick Johnson Is Dead  Kirsten Johnson   \n",
              "1         s2  TV Show          Blood & Water              NaN   \n",
              "2         s3  TV Show              Ganglands  Julien Leclercq   \n",
              "3         s4  TV Show  Jailbirds New Orleans              NaN   \n",
              "4         s5  TV Show           Kota Factory              NaN   \n",
              "...      ...      ...                    ...              ...   \n",
              "8802   s8803    Movie                 Zodiac    David Fincher   \n",
              "8803   s8804  TV Show            Zombie Dumb              NaN   \n",
              "8804   s8805    Movie             Zombieland  Ruben Fleischer   \n",
              "8805   s8806    Movie                   Zoom     Peter Hewitt   \n",
              "8806   s8807    Movie                 Zubaan      Mozez Singh   \n",
              "\n",
              "                                                   cast        country  \\\n",
              "0                                                   NaN  United States   \n",
              "1     Ama Qamata, Khosi Ngema, Gail Mabalane, Thaban...   South Africa   \n",
              "2     Sami Bouajila, Tracy Gotoas, Samuel Jouy, Nabi...            NaN   \n",
              "3                                                   NaN            NaN   \n",
              "4     Mayur More, Jitendra Kumar, Ranjan Raj, Alam K...          India   \n",
              "...                                                 ...            ...   \n",
              "8802  Mark Ruffalo, Jake Gyllenhaal, Robert Downey J...  United States   \n",
              "8803                                                NaN            NaN   \n",
              "8804  Jesse Eisenberg, Woody Harrelson, Emma Stone, ...  United States   \n",
              "8805  Tim Allen, Courteney Cox, Chevy Chase, Kate Ma...  United States   \n",
              "8806  Vicky Kaushal, Sarah-Jane Dias, Raaghav Chanan...          India   \n",
              "\n",
              "              date_added  release_year rating   duration  \\\n",
              "0     September 25, 2021          2020  PG-13     90 min   \n",
              "1     September 24, 2021          2021  TV-MA  2 Seasons   \n",
              "2     September 24, 2021          2021  TV-MA   1 Season   \n",
              "3     September 24, 2021          2021  TV-MA   1 Season   \n",
              "4     September 24, 2021          2021  TV-MA  2 Seasons   \n",
              "...                  ...           ...    ...        ...   \n",
              "8802   November 20, 2019          2007      R    158 min   \n",
              "8803        July 1, 2019          2018  TV-Y7  2 Seasons   \n",
              "8804    November 1, 2019          2009      R     88 min   \n",
              "8805    January 11, 2020          2006     PG     88 min   \n",
              "8806       March 2, 2019          2015  TV-14    111 min   \n",
              "\n",
              "                                              listed_in  \\\n",
              "0                                         Documentaries   \n",
              "1       International TV Shows, TV Dramas, TV Mysteries   \n",
              "2     Crime TV Shows, International TV Shows, TV Act...   \n",
              "3                                Docuseries, Reality TV   \n",
              "4     International TV Shows, Romantic TV Shows, TV ...   \n",
              "...                                                 ...   \n",
              "8802                     Cult Movies, Dramas, Thrillers   \n",
              "8803             Kids' TV, Korean TV Shows, TV Comedies   \n",
              "8804                            Comedies, Horror Movies   \n",
              "8805                 Children & Family Movies, Comedies   \n",
              "8806     Dramas, International Movies, Music & Musicals   \n",
              "\n",
              "                                            description  \n",
              "0     As her father nears the end of his life, filmm...  \n",
              "1     After crossing paths at a party, a Cape Town t...  \n",
              "2     To protect his family from a powerful drug lor...  \n",
              "3     Feuds, flirtations and toilet talk go down amo...  \n",
              "4     In a city of coaching centers known to train I...  \n",
              "...                                                 ...  \n",
              "8802  A political cartoonist, a crime reporter and a...  \n",
              "8803  While living alone in a spooky town, a young g...  \n",
              "8804  Looking to survive in a world taken over by zo...  \n",
              "8805  Dragged from civilian life, a former superhero...  \n",
              "8806  A scrappy but poor boy worms his way into a ty...  \n",
              "\n",
              "[8807 rows x 12 columns]"
            ],
            "text/html": [
              "\n",
              "  <div id=\"df-312a3acf-3372-4170-a855-aa59b7a6c402\">\n",
              "    <div class=\"colab-df-container\">\n",
              "      <div>\n",
              "<style scoped>\n",
              "    .dataframe tbody tr th:only-of-type {\n",
              "        vertical-align: middle;\n",
              "    }\n",
              "\n",
              "    .dataframe tbody tr th {\n",
              "        vertical-align: top;\n",
              "    }\n",
              "\n",
              "    .dataframe thead th {\n",
              "        text-align: right;\n",
              "    }\n",
              "</style>\n",
              "<table border=\"1\" class=\"dataframe\">\n",
              "  <thead>\n",
              "    <tr style=\"text-align: right;\">\n",
              "      <th></th>\n",
              "      <th>show_id</th>\n",
              "      <th>type</th>\n",
              "      <th>title</th>\n",
              "      <th>director</th>\n",
              "      <th>cast</th>\n",
              "      <th>country</th>\n",
              "      <th>date_added</th>\n",
              "      <th>release_year</th>\n",
              "      <th>rating</th>\n",
              "      <th>duration</th>\n",
              "      <th>listed_in</th>\n",
              "      <th>description</th>\n",
              "    </tr>\n",
              "  </thead>\n",
              "  <tbody>\n",
              "    <tr>\n",
              "      <th>0</th>\n",
              "      <td>s1</td>\n",
              "      <td>Movie</td>\n",
              "      <td>Dick Johnson Is Dead</td>\n",
              "      <td>Kirsten Johnson</td>\n",
              "      <td>NaN</td>\n",
              "      <td>United States</td>\n",
              "      <td>September 25, 2021</td>\n",
              "      <td>2020</td>\n",
              "      <td>PG-13</td>\n",
              "      <td>90 min</td>\n",
              "      <td>Documentaries</td>\n",
              "      <td>As her father nears the end of his life, filmm...</td>\n",
              "    </tr>\n",
              "    <tr>\n",
              "      <th>1</th>\n",
              "      <td>s2</td>\n",
              "      <td>TV Show</td>\n",
              "      <td>Blood &amp; Water</td>\n",
              "      <td>NaN</td>\n",
              "      <td>Ama Qamata, Khosi Ngema, Gail Mabalane, Thaban...</td>\n",
              "      <td>South Africa</td>\n",
              "      <td>September 24, 2021</td>\n",
              "      <td>2021</td>\n",
              "      <td>TV-MA</td>\n",
              "      <td>2 Seasons</td>\n",
              "      <td>International TV Shows, TV Dramas, TV Mysteries</td>\n",
              "      <td>After crossing paths at a party, a Cape Town t...</td>\n",
              "    </tr>\n",
              "    <tr>\n",
              "      <th>2</th>\n",
              "      <td>s3</td>\n",
              "      <td>TV Show</td>\n",
              "      <td>Ganglands</td>\n",
              "      <td>Julien Leclercq</td>\n",
              "      <td>Sami Bouajila, Tracy Gotoas, Samuel Jouy, Nabi...</td>\n",
              "      <td>NaN</td>\n",
              "      <td>September 24, 2021</td>\n",
              "      <td>2021</td>\n",
              "      <td>TV-MA</td>\n",
              "      <td>1 Season</td>\n",
              "      <td>Crime TV Shows, International TV Shows, TV Act...</td>\n",
              "      <td>To protect his family from a powerful drug lor...</td>\n",
              "    </tr>\n",
              "    <tr>\n",
              "      <th>3</th>\n",
              "      <td>s4</td>\n",
              "      <td>TV Show</td>\n",
              "      <td>Jailbirds New Orleans</td>\n",
              "      <td>NaN</td>\n",
              "      <td>NaN</td>\n",
              "      <td>NaN</td>\n",
              "      <td>September 24, 2021</td>\n",
              "      <td>2021</td>\n",
              "      <td>TV-MA</td>\n",
              "      <td>1 Season</td>\n",
              "      <td>Docuseries, Reality TV</td>\n",
              "      <td>Feuds, flirtations and toilet talk go down amo...</td>\n",
              "    </tr>\n",
              "    <tr>\n",
              "      <th>4</th>\n",
              "      <td>s5</td>\n",
              "      <td>TV Show</td>\n",
              "      <td>Kota Factory</td>\n",
              "      <td>NaN</td>\n",
              "      <td>Mayur More, Jitendra Kumar, Ranjan Raj, Alam K...</td>\n",
              "      <td>India</td>\n",
              "      <td>September 24, 2021</td>\n",
              "      <td>2021</td>\n",
              "      <td>TV-MA</td>\n",
              "      <td>2 Seasons</td>\n",
              "      <td>International TV Shows, Romantic TV Shows, TV ...</td>\n",
              "      <td>In a city of coaching centers known to train I...</td>\n",
              "    </tr>\n",
              "    <tr>\n",
              "      <th>...</th>\n",
              "      <td>...</td>\n",
              "      <td>...</td>\n",
              "      <td>...</td>\n",
              "      <td>...</td>\n",
              "      <td>...</td>\n",
              "      <td>...</td>\n",
              "      <td>...</td>\n",
              "      <td>...</td>\n",
              "      <td>...</td>\n",
              "      <td>...</td>\n",
              "      <td>...</td>\n",
              "      <td>...</td>\n",
              "    </tr>\n",
              "    <tr>\n",
              "      <th>8802</th>\n",
              "      <td>s8803</td>\n",
              "      <td>Movie</td>\n",
              "      <td>Zodiac</td>\n",
              "      <td>David Fincher</td>\n",
              "      <td>Mark Ruffalo, Jake Gyllenhaal, Robert Downey J...</td>\n",
              "      <td>United States</td>\n",
              "      <td>November 20, 2019</td>\n",
              "      <td>2007</td>\n",
              "      <td>R</td>\n",
              "      <td>158 min</td>\n",
              "      <td>Cult Movies, Dramas, Thrillers</td>\n",
              "      <td>A political cartoonist, a crime reporter and a...</td>\n",
              "    </tr>\n",
              "    <tr>\n",
              "      <th>8803</th>\n",
              "      <td>s8804</td>\n",
              "      <td>TV Show</td>\n",
              "      <td>Zombie Dumb</td>\n",
              "      <td>NaN</td>\n",
              "      <td>NaN</td>\n",
              "      <td>NaN</td>\n",
              "      <td>July 1, 2019</td>\n",
              "      <td>2018</td>\n",
              "      <td>TV-Y7</td>\n",
              "      <td>2 Seasons</td>\n",
              "      <td>Kids' TV, Korean TV Shows, TV Comedies</td>\n",
              "      <td>While living alone in a spooky town, a young g...</td>\n",
              "    </tr>\n",
              "    <tr>\n",
              "      <th>8804</th>\n",
              "      <td>s8805</td>\n",
              "      <td>Movie</td>\n",
              "      <td>Zombieland</td>\n",
              "      <td>Ruben Fleischer</td>\n",
              "      <td>Jesse Eisenberg, Woody Harrelson, Emma Stone, ...</td>\n",
              "      <td>United States</td>\n",
              "      <td>November 1, 2019</td>\n",
              "      <td>2009</td>\n",
              "      <td>R</td>\n",
              "      <td>88 min</td>\n",
              "      <td>Comedies, Horror Movies</td>\n",
              "      <td>Looking to survive in a world taken over by zo...</td>\n",
              "    </tr>\n",
              "    <tr>\n",
              "      <th>8805</th>\n",
              "      <td>s8806</td>\n",
              "      <td>Movie</td>\n",
              "      <td>Zoom</td>\n",
              "      <td>Peter Hewitt</td>\n",
              "      <td>Tim Allen, Courteney Cox, Chevy Chase, Kate Ma...</td>\n",
              "      <td>United States</td>\n",
              "      <td>January 11, 2020</td>\n",
              "      <td>2006</td>\n",
              "      <td>PG</td>\n",
              "      <td>88 min</td>\n",
              "      <td>Children &amp; Family Movies, Comedies</td>\n",
              "      <td>Dragged from civilian life, a former superhero...</td>\n",
              "    </tr>\n",
              "    <tr>\n",
              "      <th>8806</th>\n",
              "      <td>s8807</td>\n",
              "      <td>Movie</td>\n",
              "      <td>Zubaan</td>\n",
              "      <td>Mozez Singh</td>\n",
              "      <td>Vicky Kaushal, Sarah-Jane Dias, Raaghav Chanan...</td>\n",
              "      <td>India</td>\n",
              "      <td>March 2, 2019</td>\n",
              "      <td>2015</td>\n",
              "      <td>TV-14</td>\n",
              "      <td>111 min</td>\n",
              "      <td>Dramas, International Movies, Music &amp; Musicals</td>\n",
              "      <td>A scrappy but poor boy worms his way into a ty...</td>\n",
              "    </tr>\n",
              "  </tbody>\n",
              "</table>\n",
              "<p>8807 rows × 12 columns</p>\n",
              "</div>\n",
              "      <button class=\"colab-df-convert\" onclick=\"convertToInteractive('df-312a3acf-3372-4170-a855-aa59b7a6c402')\"\n",
              "              title=\"Convert this dataframe to an interactive table.\"\n",
              "              style=\"display:none;\">\n",
              "        \n",
              "  <svg xmlns=\"http://www.w3.org/2000/svg\" height=\"24px\"viewBox=\"0 0 24 24\"\n",
              "       width=\"24px\">\n",
              "    <path d=\"M0 0h24v24H0V0z\" fill=\"none\"/>\n",
              "    <path d=\"M18.56 5.44l.94 2.06.94-2.06 2.06-.94-2.06-.94-.94-2.06-.94 2.06-2.06.94zm-11 1L8.5 8.5l.94-2.06 2.06-.94-2.06-.94L8.5 2.5l-.94 2.06-2.06.94zm10 10l.94 2.06.94-2.06 2.06-.94-2.06-.94-.94-2.06-.94 2.06-2.06.94z\"/><path d=\"M17.41 7.96l-1.37-1.37c-.4-.4-.92-.59-1.43-.59-.52 0-1.04.2-1.43.59L10.3 9.45l-7.72 7.72c-.78.78-.78 2.05 0 2.83L4 21.41c.39.39.9.59 1.41.59.51 0 1.02-.2 1.41-.59l7.78-7.78 2.81-2.81c.8-.78.8-2.07 0-2.86zM5.41 20L4 18.59l7.72-7.72 1.47 1.35L5.41 20z\"/>\n",
              "  </svg>\n",
              "      </button>\n",
              "      \n",
              "  <style>\n",
              "    .colab-df-container {\n",
              "      display:flex;\n",
              "      flex-wrap:wrap;\n",
              "      gap: 12px;\n",
              "    }\n",
              "\n",
              "    .colab-df-convert {\n",
              "      background-color: #E8F0FE;\n",
              "      border: none;\n",
              "      border-radius: 50%;\n",
              "      cursor: pointer;\n",
              "      display: none;\n",
              "      fill: #1967D2;\n",
              "      height: 32px;\n",
              "      padding: 0 0 0 0;\n",
              "      width: 32px;\n",
              "    }\n",
              "\n",
              "    .colab-df-convert:hover {\n",
              "      background-color: #E2EBFA;\n",
              "      box-shadow: 0px 1px 2px rgba(60, 64, 67, 0.3), 0px 1px 3px 1px rgba(60, 64, 67, 0.15);\n",
              "      fill: #174EA6;\n",
              "    }\n",
              "\n",
              "    [theme=dark] .colab-df-convert {\n",
              "      background-color: #3B4455;\n",
              "      fill: #D2E3FC;\n",
              "    }\n",
              "\n",
              "    [theme=dark] .colab-df-convert:hover {\n",
              "      background-color: #434B5C;\n",
              "      box-shadow: 0px 1px 3px 1px rgba(0, 0, 0, 0.15);\n",
              "      filter: drop-shadow(0px 1px 2px rgba(0, 0, 0, 0.3));\n",
              "      fill: #FFFFFF;\n",
              "    }\n",
              "  </style>\n",
              "\n",
              "      <script>\n",
              "        const buttonEl =\n",
              "          document.querySelector('#df-312a3acf-3372-4170-a855-aa59b7a6c402 button.colab-df-convert');\n",
              "        buttonEl.style.display =\n",
              "          google.colab.kernel.accessAllowed ? 'block' : 'none';\n",
              "\n",
              "        async function convertToInteractive(key) {\n",
              "          const element = document.querySelector('#df-312a3acf-3372-4170-a855-aa59b7a6c402');\n",
              "          const dataTable =\n",
              "            await google.colab.kernel.invokeFunction('convertToInteractive',\n",
              "                                                     [key], {});\n",
              "          if (!dataTable) return;\n",
              "\n",
              "          const docLinkHtml = 'Like what you see? Visit the ' +\n",
              "            '<a target=\"_blank\" href=https://colab.research.google.com/notebooks/data_table.ipynb>data table notebook</a>'\n",
              "            + ' to learn more about interactive tables.';\n",
              "          element.innerHTML = '';\n",
              "          dataTable['output_type'] = 'display_data';\n",
              "          await google.colab.output.renderOutput(dataTable, element);\n",
              "          const docLink = document.createElement('div');\n",
              "          docLink.innerHTML = docLinkHtml;\n",
              "          element.appendChild(docLink);\n",
              "        }\n",
              "      </script>\n",
              "    </div>\n",
              "  </div>\n",
              "  "
            ]
          },
          "metadata": {},
          "execution_count": 5
        }
      ]
    },
    {
      "cell_type": "markdown",
      "source": [
        "**1. Defining Problem Statement and Analysing basic metrics.**\n",
        "\n",
        "i. Problem Statement: Analysing the data to provide insights that will assist Netflix in making knowledgeable decisions about the kinds of shows and movies to produce and tactics to expand their business in various countries.\n",
        "\n",
        "ii. Basic metrics used in a dataset such as content duration, popular genres, number of TV shows and movies, Geographical and Rating analysis etc.\n",
        "\n",
        "These preliminary evaluations and measurements might serve as a starting point for comprehending the dataset and producing insights. Based on the results of these processes, more analysis can be done to assist Netflix in making data-driven decisions."
      ],
      "metadata": {
        "id": "ycRjl-KGXk6H"
      }
    },
    {
      "cell_type": "markdown",
      "source": [
        "**2. Observations on the shape of data, data types of all the attributes, conversion of categorical attributes to 'category' (If required), missing value detection, statistical summary**"
      ],
      "metadata": {
        "id": "r46vsgg4a9-5"
      }
    },
    {
      "cell_type": "code",
      "source": [
        "# Check the shape of the data\n",
        "\n",
        "print(\"Data shape:\", df.shape)"
      ],
      "metadata": {
        "colab": {
          "base_uri": "https://localhost:8080/"
        },
        "id": "Ln4FDvNOW0ql",
        "outputId": "bb54592a-0880-4a1b-e753-6db32da8167b"
      },
      "execution_count": 6,
      "outputs": [
        {
          "output_type": "stream",
          "name": "stdout",
          "text": [
            "Data shape: (8807, 12)\n"
          ]
        }
      ]
    },
    {
      "cell_type": "code",
      "source": [
        "# Check the data types of attributes\n",
        "\n",
        "print(\"Data types of attributes:\", df.dtypes)"
      ],
      "metadata": {
        "colab": {
          "base_uri": "https://localhost:8080/"
        },
        "id": "jWmqQ8Aefzgm",
        "outputId": "6789e5b0-5481-4b0a-9972-ad6ecb65f335"
      },
      "execution_count": 7,
      "outputs": [
        {
          "output_type": "stream",
          "name": "stdout",
          "text": [
            "Data types of attributes: show_id         object\n",
            "type            object\n",
            "title           object\n",
            "director        object\n",
            "cast            object\n",
            "country         object\n",
            "date_added      object\n",
            "release_year     int64\n",
            "rating          object\n",
            "duration        object\n",
            "listed_in       object\n",
            "description     object\n",
            "dtype: object\n"
          ]
        }
      ]
    },
    {
      "cell_type": "code",
      "source": [
        "# Convert categorical attributes to 'category' data type using astype() function\n",
        "\n",
        "df['country'] = df['country'].astype('category')\n",
        "df['rating'] = df['rating'].astype('category')\n",
        "df['listed_in'] = df['listed_in'].astype('category')"
      ],
      "metadata": {
        "id": "kKLh1JX_f6kN"
      },
      "execution_count": 8,
      "outputs": []
    },
    {
      "cell_type": "code",
      "source": [
        "# Check for missing values\n",
        "\n",
        "print(\"Missing values:\", df.isnull().sum())"
      ],
      "metadata": {
        "colab": {
          "base_uri": "https://localhost:8080/"
        },
        "id": "dyQ-HwzMgUTi",
        "outputId": "c67644ed-9128-4a36-b437-dfca7f2f5bb2"
      },
      "execution_count": 9,
      "outputs": [
        {
          "output_type": "stream",
          "name": "stdout",
          "text": [
            "Missing values: show_id            0\n",
            "type               0\n",
            "title              0\n",
            "director        2634\n",
            "cast             825\n",
            "country          831\n",
            "date_added        10\n",
            "release_year       0\n",
            "rating             4\n",
            "duration           3\n",
            "listed_in          0\n",
            "description        0\n",
            "dtype: int64\n"
          ]
        }
      ]
    },
    {
      "cell_type": "code",
      "source": [
        "# Generate statistical summary\n",
        "\n",
        "print(\"Statistical summary:\",df.describe())"
      ],
      "metadata": {
        "colab": {
          "base_uri": "https://localhost:8080/"
        },
        "id": "bOn1sQi-ge-A",
        "outputId": "aeba8095-7e1b-4f35-9b15-59b7bfba511b"
      },
      "execution_count": 10,
      "outputs": [
        {
          "output_type": "stream",
          "name": "stdout",
          "text": [
            "Statistical summary:        release_year\n",
            "count   8807.000000\n",
            "mean    2014.180198\n",
            "std        8.819312\n",
            "min     1925.000000\n",
            "25%     2013.000000\n",
            "50%     2017.000000\n",
            "75%     2019.000000\n",
            "max     2021.000000\n"
          ]
        }
      ]
    },
    {
      "cell_type": "markdown",
      "source": [
        "**3. Non-Graphical Analysis: Value counts and unique attributes**"
      ],
      "metadata": {
        "id": "V6rBP8qVgrgO"
      }
    },
    {
      "cell_type": "code",
      "source": [
        "# Value counts of attributes\n",
        "\n",
        "# 1. Number of TV shows and movies\n",
        "\n",
        "print(\"Count of TV shows and movies:\", df['type'].value_counts())"
      ],
      "metadata": {
        "colab": {
          "base_uri": "https://localhost:8080/"
        },
        "id": "2CtTQyo0gmdF",
        "outputId": "a6f555e2-ac54-46de-811d-c586d8a3322f"
      },
      "execution_count": 11,
      "outputs": [
        {
          "output_type": "stream",
          "name": "stdout",
          "text": [
            "Count of TV shows and movies: Movie      6131\n",
            "TV Show    2676\n",
            "Name: type, dtype: int64\n"
          ]
        }
      ]
    },
    {
      "cell_type": "code",
      "source": [
        "# 2. Distribution by country\n",
        "\n",
        "print(\"Distribution of content by country:\", df['country'].value_counts().head(15))"
      ],
      "metadata": {
        "colab": {
          "base_uri": "https://localhost:8080/"
        },
        "id": "XHOomZELhXWf",
        "outputId": "b7c5dcf0-94fa-4edd-8392-98496de0516f"
      },
      "execution_count": 12,
      "outputs": [
        {
          "output_type": "stream",
          "name": "stdout",
          "text": [
            "Distribution of content by country: United States     2818\n",
            "India              972\n",
            "United Kingdom     419\n",
            "Japan              245\n",
            "South Korea        199\n",
            "Canada             181\n",
            "Spain              145\n",
            "France             124\n",
            "Mexico             110\n",
            "Egypt              106\n",
            "Turkey             105\n",
            "Nigeria             95\n",
            "Australia           87\n",
            "Taiwan              81\n",
            "Indonesia           79\n",
            "Name: country, dtype: int64\n"
          ]
        }
      ]
    },
    {
      "cell_type": "code",
      "source": [
        "# 3. Distribution of content by release year\n",
        "\n",
        "print(\"Distribution of content by release year:\", df['release_year'].value_counts().sort_index())"
      ],
      "metadata": {
        "colab": {
          "base_uri": "https://localhost:8080/"
        },
        "id": "0xpJzCMPiHa4",
        "outputId": "169fa510-c0dc-4947-b4f9-282c64b96ff4"
      },
      "execution_count": 13,
      "outputs": [
        {
          "output_type": "stream",
          "name": "stdout",
          "text": [
            "Distribution of content by release year: 1925       1\n",
            "1942       2\n",
            "1943       3\n",
            "1944       3\n",
            "1945       4\n",
            "        ... \n",
            "2017    1032\n",
            "2018    1147\n",
            "2019    1030\n",
            "2020     953\n",
            "2021     592\n",
            "Name: release_year, Length: 74, dtype: int64\n"
          ]
        }
      ]
    },
    {
      "cell_type": "code",
      "source": [
        "# 4. Popular genres\n",
        "\n",
        "print(\"Top genres:\", df['listed_in'].value_counts().head(15))"
      ],
      "metadata": {
        "colab": {
          "base_uri": "https://localhost:8080/"
        },
        "id": "6Cejw2aLiVkf",
        "outputId": "6c0fdc09-df6a-4ddd-b9d8-6ee9d3ebdbbe"
      },
      "execution_count": 14,
      "outputs": [
        {
          "output_type": "stream",
          "name": "stdout",
          "text": [
            "Top genres: Dramas, International Movies                        362\n",
            "Documentaries                                       359\n",
            "Stand-Up Comedy                                     334\n",
            "Comedies, Dramas, International Movies              274\n",
            "Dramas, Independent Movies, International Movies    252\n",
            "Kids' TV                                            220\n",
            "Children & Family Movies                            215\n",
            "Children & Family Movies, Comedies                  201\n",
            "Documentaries, International Movies                 186\n",
            "Dramas, International Movies, Romantic Movies       180\n",
            "Comedies, International Movies                      176\n",
            "Comedies, International Movies, Romantic Movies     152\n",
            "Dramas                                              138\n",
            "Dramas, International Movies, Thrillers             134\n",
            "Action & Adventure, Dramas, International Movies    132\n",
            "Name: listed_in, dtype: int64\n"
          ]
        }
      ]
    },
    {
      "cell_type": "code",
      "source": [
        "# Unique attributes\n",
        "\n",
        "# 1. Unique ratings\n",
        "print(\"Unique ratings:\")\n",
        "print(df['rating'].unique())"
      ],
      "metadata": {
        "colab": {
          "base_uri": "https://localhost:8080/"
        },
        "id": "gH8Rey1xilxd",
        "outputId": "4515fe57-be55-48d8-b023-6005604ea59b"
      },
      "execution_count": 15,
      "outputs": [
        {
          "output_type": "stream",
          "name": "stdout",
          "text": [
            "Unique ratings:\n",
            "['PG-13', 'TV-MA', 'PG', 'TV-14', 'TV-PG', ..., '66 min', 'NR', NaN, 'TV-Y7-FV', 'UR']\n",
            "Length: 18\n",
            "Categories (17, object): ['66 min', '74 min', '84 min', 'G', ..., 'TV-Y', 'TV-Y7', 'TV-Y7-FV', 'UR']\n"
          ]
        }
      ]
    },
    {
      "cell_type": "code",
      "source": [
        "# 2. Unique directors\n",
        "print(\"Unique directors:\")\n",
        "print(df['director'].unique())"
      ],
      "metadata": {
        "colab": {
          "base_uri": "https://localhost:8080/"
        },
        "id": "EYd-w0gcioQS",
        "outputId": "5ef2b584-54fc-4fc2-838b-42aa56ea8a6f"
      },
      "execution_count": 16,
      "outputs": [
        {
          "output_type": "stream",
          "name": "stdout",
          "text": [
            "Unique directors:\n",
            "['Kirsten Johnson' nan 'Julien Leclercq' ... 'Majid Al Ansari'\n",
            " 'Peter Hewitt' 'Mozez Singh']\n"
          ]
        }
      ]
    },
    {
      "cell_type": "markdown",
      "source": [
        "**4. Visual Analysis - Univariate, Bivariate after pre-processing of the data**\n",
        "\n",
        "Note: Pre-processing involves unnesting of the data in columns like Actor, Director, Country"
      ],
      "metadata": {
        "id": "C1LFs3tPk67X"
      }
    },
    {
      "cell_type": "code",
      "source": [
        "# Unnesting columns\n",
        "df['actors'] = df['cast'].str.split(', ')\n",
        "df['directors'] = df['director'].str.split(', ')\n",
        "df['countries'] = df['country'].str.split(', ')"
      ],
      "metadata": {
        "id": "ZbeBVFlOioXU"
      },
      "execution_count": 17,
      "outputs": []
    },
    {
      "cell_type": "code",
      "source": [
        "# Univariate Analysis - Continuous Variables\n",
        "# 4.1 For continuous variable(s): Distplot, countplot, histogram for univariate analysis\n",
        "\n",
        "# 1. Distplot\n",
        "plt.figure(figsize=(10, 5))\n",
        "sns.histplot(data=df, x='release_year', bins=30)\n",
        "plt.title('Distribution of Release Year')\n",
        "plt.xlabel('Release Year')\n",
        "plt.ylabel('Count')\n",
        "plt.show()"
      ],
      "metadata": {
        "colab": {
          "base_uri": "https://localhost:8080/",
          "height": 487
        },
        "id": "_la6U1hZlKBT",
        "outputId": "f0261498-ccb9-4210-db69-a297103f313d"
      },
      "execution_count": 18,
      "outputs": [
        {
          "output_type": "display_data",
          "data": {
            "text/plain": [
              "<Figure size 1000x500 with 1 Axes>"
            ],
            "image/png": "[encoded data removed]"
          },
          "metadata": {}
        }
      ]
    },
    {
      "cell_type": "code",
      "source": [
        "# 2. Countplot\n",
        "plt.figure(figsize=(10, 5))\n",
        "sns.countplot(data=df, x='rating')\n",
        "plt.title('Count of Ratings')\n",
        "plt.xlabel('Rating')\n",
        "plt.ylabel('Count')\n",
        "plt.xticks(rotation=45)\n",
        "plt.show()"
      ],
      "metadata": {
        "colab": {
          "base_uri": "https://localhost:8080/",
          "height": 525
        },
        "id": "_qz68dQ7lN6y",
        "outputId": "21b1e45d-1098-4a2b-bfbe-a8727f694268"
      },
      "execution_count": 19,
      "outputs": [
        {
          "output_type": "display_data",
          "data": {
            "text/plain": [
              "<Figure size 1000x500 with 1 Axes>"
            ],
            "image/png": "[encoded data removed]"
          },
          "metadata": {}
        }
      ]
    },
    {
      "cell_type": "code",
      "source": [
        "# 3. Histogram\n",
        "plt.figure(figsize=(10, 6))\n",
        "plt.hist(df['release_year'], bins=20)\n",
        "plt.title('Distribution of Content Duration')\n",
        "plt.xlabel('release_year')\n",
        "plt.ylabel('Count')\n",
        "plt.show()"
      ],
      "metadata": {
        "colab": {
          "base_uri": "https://localhost:8080/",
          "height": 564
        },
        "id": "nWZAbRjdln1X",
        "outputId": "c045eb45-4fb0-4b5d-8baa-1df44326822f"
      },
      "execution_count": 33,
      "outputs": [
        {
          "output_type": "display_data",
          "data": {
            "text/plain": [
              "<Figure size 1000x600 with 1 Axes>"
            ],
            "image/png": "[encoded data removed]"
          },
          "metadata": {}
        }
      ]
    },
    {
      "cell_type": "code",
      "source": [
        "# Bivariate Analysis - Categorical vs. Continuous\n",
        "\n",
        "# Boxplot\n",
        "plt.figure(figsize=(10, 6))\n",
        "sns.boxplot(data=df, x='rating', y='release_year')\n",
        "plt.title('Duration by Rating')\n",
        "plt.xlabel('Rating')\n",
        "plt.ylabel('release_year')\n",
        "plt.xticks(rotation=45)\n",
        "plt.show()"
      ],
      "metadata": {
        "colab": {
          "base_uri": "https://localhost:8080/",
          "height": 602
        },
        "id": "q7mbRSWNnlIV",
        "outputId": "ec79910b-3126-4915-e80e-981b07a25f56"
      },
      "execution_count": 35,
      "outputs": [
        {
          "output_type": "display_data",
          "data": {
            "text/plain": [
              "<Figure size 1000x600 with 1 Axes>"
            ],
            "image/png": "[encoded data removed]"
          },
          "metadata": {}
        }
      ]
    },
    {
      "cell_type": "code",
      "source": [
        "# Correlation Analysis\n",
        "\n",
        "# Heatmap\n",
        "sns.heatmap(df.corr())\n",
        "plt.title('Correlation Heatmap')"
      ],
      "metadata": {
        "colab": {
          "base_uri": "https://localhost:8080/",
          "height": 524
        },
        "id": "GETmYq2zn7Tp",
        "outputId": "c7471dcf-864b-4f97-bcc1-6a0936892c00"
      },
      "execution_count": 36,
      "outputs": [
        {
          "output_type": "stream",
          "name": "stderr",
          "text": [
            "<ipython-input-36-1825b543252d>:4: FutureWarning: The default value of numeric_only in DataFrame.corr is deprecated. In a future version, it will default to False. Select only valid columns or specify the value of numeric_only to silence this warning.\n",
            "  sns.heatmap(df.corr())\n"
          ]
        },
        {
          "output_type": "execute_result",
          "data": {
            "text/plain": [
              "Text(0.5, 1.0, 'Correlation Heatmap')"
            ]
          },
          "metadata": {},
          "execution_count": 36
        },
        {
          "output_type": "display_data",
          "data": {
            "text/plain": [
              "<Figure size 640x480 with 2 Axes>"
            ],
            "image/png": "[encoded data removed]"
          },
          "metadata": {}
        }
      ]
    },
    {
      "cell_type": "code",
      "source": [
        "# Pairplot\n",
        "sns.pairplot(df[['release_year', 'duration', 'rating']], diag_kind='kde')"
      ],
      "metadata": {
        "colab": {
          "base_uri": "https://localhost:8080/",
          "height": 285
        },
        "id": "l9b0JqcioCTb",
        "outputId": "828b644a-6991-42ae-abe2-7da2fe64f207"
      },
      "execution_count": 37,
      "outputs": [
        {
          "output_type": "execute_result",
          "data": {
            "text/plain": [
              "<seaborn.axisgrid.PairGrid at 0x7f11fa34e350>"
            ]
          },
          "metadata": {},
          "execution_count": 37
        },
        {
          "output_type": "display_data",
          "data": {
            "text/plain": [
              "<Figure size 250x250 with 2 Axes>"
            ],
            "image/png": "[encoded data removed]"
          },
          "metadata": {}
        }
      ]
    },
    {
      "cell_type": "markdown",
      "source": [
        "**5. Missing Value & Outlier check (Treatment optional)**"
      ],
      "metadata": {
        "id": "_1UDPIeRLiQG"
      }
    },
    {
      "cell_type": "code",
      "source": [
        "# Missing Value Check\n",
        "\n",
        "# Count missing values in each column\n",
        "missing_values = df.isnull().sum()\n",
        "print(\"Missing Values:\")\n",
        "print(missing_values)"
      ],
      "metadata": {
        "colab": {
          "base_uri": "https://localhost:8080/"
        },
        "id": "tl-WBa1FLg-d",
        "outputId": "428d0c58-573e-46a1-9e41-62a429cc913f"
      },
      "execution_count": 25,
      "outputs": [
        {
          "output_type": "stream",
          "name": "stdout",
          "text": [
            "Missing Values:\n",
            "show_id            0\n",
            "type               0\n",
            "title              0\n",
            "director        2634\n",
            "cast             825\n",
            "country          831\n",
            "date_added        10\n",
            "release_year       0\n",
            "rating             4\n",
            "duration           3\n",
            "listed_in          0\n",
            "description        0\n",
            "actors           825\n",
            "directors       2634\n",
            "countries        831\n",
            "dtype: int64\n"
          ]
        }
      ]
    },
    {
      "cell_type": "code",
      "source": [
        "# Outlier Check\n",
        "\n",
        "# Numeric columns for outlier analysis\n",
        "numeric_columns = ['release_year', 'duration']\n",
        "\n",
        "# Boxplot for outlier detection\n",
        "plt.figure(figsize=(8, 5))\n",
        "sns.boxplot(data=df[numeric_columns])\n",
        "plt.title('Outlier Check')\n",
        "plt.show()"
      ],
      "metadata": {
        "colab": {
          "base_uri": "https://localhost:8080/",
          "height": 468
        },
        "id": "PP6gK4erMs9A",
        "outputId": "d43bec2c-3d7e-442c-dbad-a5526062527e"
      },
      "execution_count": 31,
      "outputs": [
        {
          "output_type": "display_data",
          "data": {
            "text/plain": [
              "<Figure size 800x500 with 1 Axes>"
            ],
            "image/png": "[encoded data removed]"
          },
          "metadata": {}
        }
      ]
    },
    {
      "cell_type": "markdown",
      "source": [
        "After performing these checks, you can observe the missing values in each column. You can also look at the boxplot to spot any outliers in the numerical columns. To maintain the integrity of the data and ensure reliable analysis, you can choose appropriate treatments for missing values and outliers based on the findings."
      ],
      "metadata": {
        "id": "XVGleHmuOkoC"
      }
    },
    {
      "cell_type": "markdown",
      "source": [
        "**6. Insights based on Non-Graphical and Visual Analysis**\n",
        "\n",
        "Here are some findings based on several factors from the non-graphical and visual analysis of the provided Netflix dataset:"
      ],
      "metadata": {
        "id": "HN1fMb4gRCRC"
      }
    },
    {
      "cell_type": "markdown",
      "source": [
        "**6.1 Comments on the range of attributes:**\n",
        "\n",
        "i. **Release Year** : The collection includes TV series and films that were released between 1925 and 2021, covering a wide range of years.\n",
        "\n",
        "ii. **Duration** : For movies, the running time varies from a few minutes to over 300 minutes, and for TV shows, it varies from 1 to 16 seasons.\n",
        "\n",
        "iii. **Country** : The United States is the most major country represented in the dataset, which includes content from many other nations as well.\n",
        "\n",
        "iv. **Ratings** : The dataset contains a variety of ratings, including TV-Y, TV-MA, TV-PG, etc., that designate content appropriate for various age groups."
      ],
      "metadata": {
        "id": "Bgp8TY8WRNex"
      }
    },
    {
      "cell_type": "markdown",
      "source": [
        "**6.2 Comments on the distribution of variables and relationships between them:**\n",
        "\n",
        "i. **Release Year:** The distribution of release years shows an increasing trend over time, indicating the growth of content production on Netflix.\n",
        "\n",
        "ii. **Duration:** The distribution of content duration is skewed, with the majority falling within the range of 50-150 minutes for movies and 1-6 seasons for TV shows.\n",
        "\n",
        "iii. **Rating:** The count of ratings varies, with TV-MA being the most prevalent, followed by TV-14 and TV-PG.\n",
        "\n",
        "iv. **Country:** The dataset demonstrates the diverse origin of content, with the United States having the highest number of productions followed by India and the United Kingdom."
      ],
      "metadata": {
        "id": "-EU2TRhgRNm8"
      }
    },
    {
      "cell_type": "markdown",
      "source": [
        "**6.3 Comments for each univariate and bivariate plot:**\n",
        "\n",
        "**i. Distplot (Release Year):** The distribution of release years shows a positively skewed distribution, with a higher concentration of content released in recent years.\n",
        "\n",
        "**ii. Countplot (Rating):** TV-MA is the most common rating, indicating that Netflix offers content primarily targeted towards mature audiences.\n",
        "\n",
        "**iii. Histogram (Duration):** The duration of movies follows a right-skewed distribution, with most movies having durations between 50 and 150 minutes.\n",
        "\n",
        "**iv. Boxplot (Rating vs. Duration):** The boxplot reveals that content rated TV-MA tends to have longer durations compared to other ratings, indicating potentially more complex or in-depth storytelling.\n",
        "\n",
        "**v. Heatmap (Correlation):** The correlation heatmap shows the relationships between numeric attributes, revealing no significant correlation between variables."
      ],
      "metadata": {
        "id": "9Vuam6kVRNts"
      }
    },
    {
      "cell_type": "markdown",
      "source": [
        "Overall, the dataset's features makes it possible to choose from a variety of content possibilities, including content with varied lengths and from different nations.The bivariate plots draw attention to a possible connection between content length and evaluations.\n",
        "\n",
        "These insights might help Netflix make judgements regarding the kinds of series and films to produce and build their business in different countries."
      ],
      "metadata": {
        "id": "iQGXSZU3Tm97"
      }
    },
    {
      "cell_type": "markdown",
      "source": [
        "**7. Business Insights - Should include patterns observed in the data along with what you can infer from it**"
      ],
      "metadata": {
        "id": "ILZvrV5HUYFr"
      }
    },
    {
      "cell_type": "markdown",
      "source": [
        "Here are some business insights that Netflix can use to decide what kinds of shows and films to make and how to expand its operations in various regions, based on the examination of the Netflix dataset that has been made available:\n",
        "\n",
        "i. **User Engagement :** \n",
        "Analysis of viewer engagement measures, including user ratings, reviews, and popularity rankings, can reveal information about the kind of material that are most well-liked by the audience.\n",
        "\n",
        "By using this data, Netflix can concentrate on creating top-notch content that matches viewer preferences, resulting in more user engagement and retention.\n",
        "\n",
        "ii. **Collaborations and Partnerships:**\n",
        "The quality and attractiveness of Netflix's programming can be improved by investigating partnerships with renowned performers, directors, and production companies.\n",
        "\n",
        "Successful partnerships can be found by looking at the dataset's successful collaborations, which can also help increase Netflix's productions' visibility and reputation.\n",
        "\n",
        "iii. **Data-Driven Decision Making:**\n",
        "\n",
        "Continuously analyzing viewer data, preferences, and feedback can guide content production decisions and enable Netflix to adapt to changing viewer trends and demands.\n",
        "\n",
        "Leveraging advanced analytics and machine learning techniques can provide personalized recommendations and improve content discovery for users.\n",
        "\n",
        "iv.**Geographic Expansion:**\n",
        "\n",
        "The United States, India, and the United Kingdom are among the major contributors to the collection, which include content from a number of nations.\n",
        "\n",
        "Netflix can grow its global presence and serve regional viewers by identifying popular material from particular nations and utilising local talent and cultural themes.\n",
        "\n",
        "v. **Duration Preferences:**\n",
        "\n",
        "The bulk of films last between 50 and 150 minutes, suggesting that making films in this time frame may be more in line with audience preferences.\n",
        "\n",
        "The prevalence of TV shows with 1-6 seasons suggests that generating limited series or shorter seasons can draw viewers who prefer binge-watching or shorter commitments.\n",
        "\n",
        "**Other Attributes :**\n",
        "Trend Analysis, Rating Considerations, Original Content, Market Segmentation, etc."
      ],
      "metadata": {
        "id": "5hZ6S9vIUYO9"
      }
    },
    {
      "cell_type": "markdown",
      "source": [
        "**8. Recommendations - Actionable items for business. No technical jargon. No complications. Simple action items that everyone can understand**"
      ],
      "metadata": {
        "id": "2Wc19g0SWXXj"
      }
    },
    {
      "cell_type": "markdown",
      "source": [
        "After doing analysis over netflix dataset we can make some recommendations to improve their profits which are as follows:\n",
        "\n",
        "**i. Invest in Original Content :** Focus on creating original content to differentiate Netflix from competitors and provide exclusive offerings to subscribers.\n",
        "\n",
        "**ii. Increase Content Production:** Produce more television programmes and motion pictures annually to accommodate a range of consumer preferences and draw and keep subscribers.\n",
        "\n",
        "**iii. Leverage Local Talent and Themes:** Invest in material from many nations, make use of local talent, and use cultural themes to connect with regional audiences to increase your global footprint.\n",
        "\n",
        "**iv. Analyze Viewer Engagement:** Make data-driven judgements by consistently analysing viewer engagement measures, such as user ratings, reviews, and popularity scores, to discover what content resonates effectively with the audience.\n",
        "\n",
        "**v. Personalize Recommendations:** As we all know Netflix has one of the best recommendation system but it can be improvised by utilizing advanced analytics and machine learning techniques to provide personalized content recommendations, improving enhancing user experience."
      ],
      "metadata": {
        "id": "4LYF1oRzW41s"
      }
    }
  ]
}